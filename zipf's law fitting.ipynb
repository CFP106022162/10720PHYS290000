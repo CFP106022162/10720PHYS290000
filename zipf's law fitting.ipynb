{
 "cells": [
  {
   "cell_type": "code",
   "execution_count": 5,
   "metadata": {},
   "outputs": [
    {
     "name": "stdout",
     "output_type": "stream",
     "text": [
      "[385.30732705  -1.38691476] [[1.72112047e+02 2.66750725e-01]\n",
      " [2.66750725e-01 4.34657032e-04]]\n"
     ]
    },
    {
     "data": {
      "image/png": "[encoded data removed]",
      "text/plain": [
       "<Figure size 432x288 with 1 Axes>"
      ]
     },
     "metadata": {
      "needs_background": "light"
     },
     "output_type": "display_data"
    }
   ],
   "source": [
    "fp = open('Alice.txt','r',encoding='UTF-8')\n",
    "import matplotlib.pyplot as plt\n",
    "\n",
    "\n",
    "line  = fp.readline()\n",
    "my_dict = {}\n",
    "\n",
    "while line:\n",
    "    s = line.split()\n",
    "    for x in s:\n",
    "        if x not in my_dict:\n",
    "            my_dict[x] = 1\n",
    "        else:\n",
    "            my_dict[x] += 1\n",
    "    line = fp.readline()\n",
    "\n",
    "fp.close() \n",
    "\n",
    "num = []\n",
    "\n",
    "for key in my_dict:\n",
    "    num.append(my_dict[key])\n",
    "import numpy as np\n",
    "num.sort()\n",
    "num.reverse()\n",
    "lognum=np.log(num)\n",
    "a= plt.hist(lognum, 20)\n",
    "\n",
    "dx = (a[1][1]-a[1][0])\n",
    "bin_center = np.array(a[1][0:-1])+dx/2\n",
    "\n",
    "from scipy import optimize\n",
    "def test_func(x, amp, alpha):\n",
    "    return amp *x**alpha\n",
    "\n",
    "params, params_covariance = optimize.curve_fit(test_func, bin_center, a[0])\n",
    "print(params, params_covariance)\n",
    "#plt.hist(money, bins)\n",
    "plt.plot(bin_center, test_func(bin_center, params[0], params[1]), \"r*\",label='Fitted function')    \n",
    "\n",
    "plt.xlabel(\"Rank of the words\")\n",
    "plt.ylabel(\"Number of the occurance\")\n",
    "\n",
    "plt.show()"
   ]
  },
  {
   "cell_type": "code",
   "execution_count": null,
   "metadata": {},
   "outputs": [],
   "source": []
  }
 ],
 "metadata": {
  "kernelspec": {
   "display_name": "Python 3",
   "language": "python",
   "name": "python3"
  }
 },
 "nbformat": 4,
 "nbformat_minor": 2
}
